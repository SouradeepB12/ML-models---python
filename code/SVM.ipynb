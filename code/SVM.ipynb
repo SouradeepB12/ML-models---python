{
 "cells": [
  {
   "cell_type": "code",
   "execution_count": 1,
   "id": "da3e2812",
   "metadata": {},
   "outputs": [],
   "source": [
    "##Importing libraries\n",
    "import numpy as np\n",
    "import pandas as pd\n",
    "import matplotlib.pyplot as plt\n",
    "import time\n",
    "import math\n",
    "import gzip\n",
    "from sklearn.model_selection import train_test_split\n",
    "from sklearn.preprocessing import StandardScaler\n",
    "from sklearn.svm import SVC\n",
    "from sklearn.metrics import accuracy_score\n",
    "from sklearn.utils import shuffle\n",
    "\n",
    "def compute_cost(W, X, Y):\n",
    "    # calculate hinge loss\n",
    "    N = X.shape[0]\n",
    "    distances = 1 - Y * (np.dot(X, W))\n",
    "    distances[distances < 0] = 0  # equivalent to max(0, distance)\n",
    "    hinge_loss = regularization_strength * (np.sum(distances) / N)\n",
    "\n",
    "    # calculate cost\n",
    "    cost = 1 / 2 * np.dot(W, W) + hinge_loss\n",
    "    return cost\n",
    "\n",
    "def calculate_cost_gradient(W, X_batch, Y_batch):\n",
    "    # if only one example is passed (eg. in case of SGD)\n",
    "    #if type(Y_batch) == np.float64:\n",
    "    Y_batch = np.array([Y_batch])\n",
    "    X_batch = np.array([X_batch])  # gives multidimensional array\n",
    "\n",
    "    distance = 1 - (Y_batch * np.dot(X_batch, W))\n",
    "    dw = np.zeros(len(W))\n",
    "\n",
    "    for ind, d in enumerate(distance):\n",
    "        if max(0, d) == 0:\n",
    "            di = W\n",
    "        else:\n",
    "            di = W - (regularization_strength * Y_batch[ind] * X_batch[ind])\n",
    "        dw += di\n",
    "\n",
    "    dw = dw/len(Y_batch)  # average\n",
    "    return dw\n",
    "\n",
    "def sgd(X_train, y_train):\n",
    "    max_epochs = 5000\n",
    "    weights = np.zeros(X_train.shape[1])\n",
    "    nth = 0\n",
    "    prev_cost = float(\"inf\")\n",
    "    cost_threshold = 0.01  # in percent\n",
    "    # stochastic gradient descent\n",
    "    for epoch in range(1, max_epochs):\n",
    "        # shuffle to prevent repeating update cycles\n",
    "        X, Y = shuffle(X_train, y_train)\n",
    "        for ind, x in enumerate(X):\n",
    "            ascent = calculate_cost_gradient(weights, x, Y[ind])\n",
    "            weights = weights - (learning_rate * ascent)\n",
    "\n",
    "        # convergence check on 2^nth epoch\n",
    "        if epoch == 2 ** nth or epoch == max_epochs - 1:\n",
    "            cost = compute_cost(weights, X_train, y_train)\n",
    "            #print(\"Epoch is: {} and Cost is: {}\".format(epoch, cost))\n",
    "            # stoppage criterion\n",
    "            if abs(prev_cost - cost) < cost_threshold * prev_cost:\n",
    "                return weights\n",
    "            prev_cost = cost\n",
    "            nth += 1\n",
    "    return weights\n",
    "\n",
    "def predict(best_para, X_test):\n",
    "    #y_predict = np.array([])\n",
    "    #for i in range(X_test.shape[0]):\n",
    "        #temp = np.sign(np.dot(w, X_test.to_numpy()[i]))\n",
    "        #y_predict = np.append(y_predict, temp)\n",
    "        \n",
    "    w = np.array(best_para)\n",
    "    #print(w.shape)\n",
    "    b = best_para[-1]\n",
    "    y_pred = np.dot(X_test, w) + b\n",
    "    y_predict = [9 if y_pred[i] > 0 else 0 for i in range(X_test.shape[0])]\n",
    "    \n",
    "    return y_predict\n",
    "\n",
    "\n",
    "def accuracy_estimate(y_test, y_pred):\n",
    "    ##Testing error of each method\n",
    "    accuracy_val = np.sum(y_test == y_pred) / len(y_test)\n",
    "    #accuracy_val = np.mean(np.absolute(y_test - y_pred))\n",
    "    return accuracy_val\n",
    "    \n",
    "\n",
    "def svm_estimate(X_train, X_test, y_train, y_test):\n",
    "    sc = StandardScaler()\n",
    "    X_train = sc.fit_transform(X_train)\n",
    "    X_test = sc.transform(X_test)\n",
    "    \n",
    "    classifier = SVC(kernel = 'linear', random_state = 0)\n",
    "    classifier.fit(X_train, y_train)\n",
    "    \n",
    "    y_pred = classifier.predict(X_test)\n",
    "    \n",
    "    #accuracy = accuracy_estimate(y_test, y_pred)\n",
    "    accuracy = accuracy_score(y_test,y_pred)\n",
    "    print('Accuracy of SVM with sklearn = ', accuracy)"
   ]
  },
  {
   "cell_type": "code",
   "execution_count": 2,
   "id": "77ee99f2",
   "metadata": {},
   "outputs": [
    {
     "name": "stdout",
     "output_type": "stream",
     "text": [
      "Training Data Shape :  (60000, 784)\n",
      "Training label Shape :  (60000,)\n",
      "Testing Data Shape :  (10000, 784)\n",
      "Testing label Shape :  (10000,)\n",
      "X_train shape : (11872, 784)\n",
      "y_train shape : (11872,)\n",
      "X_test shape : (1989, 784)\n",
      "y_test shape : (1989,)\n"
     ]
    }
   ],
   "source": [
    "##Resubmission\n",
    "\n",
    "##Importing MNIST Data\n",
    "train_raw = pd.read_csv(r'C:\\Users\\sbhatta\\Box\\Spring 2022\\EE 425\\Assignments\\HW-4\\mnist\\mnist_train.csv')\n",
    "test_raw = pd.read_csv(r'C:\\Users\\sbhatta\\Box\\Spring 2022\\EE 425\\Assignments\\HW-4\\mnist\\mnist_test.csv')\n",
    "train_raw.shape\n",
    "test_raw.shape\n",
    "\n",
    "train_data = train_raw.drop('label',axis=1)\n",
    "train_data = train_raw.iloc[:, 1:]\n",
    "train_label = train_raw['label']\n",
    "#train_label = train_raw.loc[:, 'label']\n",
    "print('Training Data Shape : ', train_data.shape)\n",
    "print('Training label Shape : ', train_label.shape)\n",
    "\n",
    "test_data = test_raw.drop('label',axis=1)\n",
    "test_data = test_raw.iloc[:, 1:]\n",
    "test_label = test_raw['label']\n",
    "#test_label = test_raw.loc[:, 'label']\n",
    "print('Testing Data Shape : ', test_data.shape)\n",
    "print('Testing label Shape : ', test_label.shape)\n",
    "\n",
    "X_train = train_data[np.logical_or(train_label==9, train_label==0)]\n",
    "y_train = train_label[np.logical_or(train_label==9, train_label==0)]\n",
    "X_test = test_data[np.logical_or(test_label==9, test_label==0)]\n",
    "y_test = test_label[np.logical_or(test_label==9, test_label==0)]\n",
    "print('X_train shape :', X_train.shape)\n",
    "print('y_train shape :', y_train.shape)\n",
    "print('X_test shape :', X_test.shape)\n",
    "print('y_test shape :', y_test.shape)\n"
   ]
  },
  {
   "cell_type": "code",
   "execution_count": 3,
   "id": "45d37d5e",
   "metadata": {},
   "outputs": [
    {
     "name": "stdout",
     "output_type": "stream",
     "text": [
      "Accuracy of SVM =  0.9748617395676219\n"
     ]
    }
   ],
   "source": [
    "##set hyper-parameters\n",
    "regularization_strength = 1000\n",
    "learning_rate = 0.000001\n",
    "sc = StandardScaler()\n",
    "#X_normalized = MinMaxScaler().fit_transform(X_train.values)\n",
    "X_normalized = sc.fit_transform(X_train)\n",
    "X_train = pd.DataFrame(X_normalized)\n",
    "\n",
    "#y_normalized = sc.fit_transform(y_train)\n",
    "#y_train = pd.DataFrame(y_normalized)\n",
    "\n",
    "w = sgd(X_train.to_numpy(), y_train.to_numpy())\n",
    "#print(\"weights : \".format(w))\n",
    "#print(w.shape)\n",
    "\n",
    "y_predict = predict(w, X_test)\n",
    "\n",
    "for i in range(len(y_predict)):\n",
    "    if y_predict[i] == -1:\n",
    "        y_predict[i] = 0\n",
    "        \n",
    "    if y_predict[i] == 1:\n",
    "        y_predict[i] = 9\n",
    "\n",
    "\n",
    "#print(y_test.shape)\n",
    "#print(y_predict)\n",
    "\n",
    "accuracy = accuracy_estimate(y_test, y_predict)\n",
    "print('Accuracy of SVM = ', accuracy)"
   ]
  },
  {
   "cell_type": "code",
   "execution_count": 166,
   "id": "436c9b78",
   "metadata": {},
   "outputs": [
    {
     "name": "stdout",
     "output_type": "stream",
     "text": [
      "Accuracy of SVM with sklearn =  0.9914529914529915\n"
     ]
    }
   ],
   "source": [
    "##Comparison with sklearn SVM functions\n",
    "svm_estimate(X_train, X_test, y_train, y_test)"
   ]
  },
  {
   "cell_type": "code",
   "execution_count": null,
   "id": "b897d5ab",
   "metadata": {},
   "outputs": [],
   "source": []
  },
  {
   "cell_type": "code",
   "execution_count": null,
   "id": "7b6f1a74",
   "metadata": {},
   "outputs": [],
   "source": []
  },
  {
   "cell_type": "code",
   "execution_count": null,
   "id": "a6dd4314",
   "metadata": {},
   "outputs": [],
   "source": []
  },
  {
   "cell_type": "code",
   "execution_count": null,
   "id": "fa061d8e",
   "metadata": {},
   "outputs": [],
   "source": []
  },
  {
   "cell_type": "code",
   "execution_count": null,
   "id": "e93e22bc",
   "metadata": {},
   "outputs": [],
   "source": []
  },
  {
   "cell_type": "code",
   "execution_count": null,
   "id": "d188924b",
   "metadata": {},
   "outputs": [],
   "source": []
  },
  {
   "cell_type": "code",
   "execution_count": null,
   "id": "8924c60a",
   "metadata": {},
   "outputs": [],
   "source": []
  },
  {
   "cell_type": "code",
   "execution_count": null,
   "id": "6d50694e",
   "metadata": {},
   "outputs": [],
   "source": []
  },
  {
   "cell_type": "code",
   "execution_count": null,
   "id": "51c9b3e8",
   "metadata": {},
   "outputs": [],
   "source": []
  }
 ],
 "metadata": {
  "kernelspec": {
   "display_name": "Python 3 (ipykernel)",
   "language": "python",
   "name": "python3"
  },
  "language_info": {
   "codemirror_mode": {
    "name": "ipython",
    "version": 3
   },
   "file_extension": ".py",
   "mimetype": "text/x-python",
   "name": "python",
   "nbconvert_exporter": "python",
   "pygments_lexer": "ipython3",
   "version": "3.9.12"
  }
 },
 "nbformat": 4,
 "nbformat_minor": 5
}
